{
 "cells": [
  {
   "cell_type": "code",
   "execution_count": 22,
   "id": "7f4d4c6f-125c-4c00-ae24-97e7325e4201",
   "metadata": {},
   "outputs": [],
   "source": [
    "import pandas as pd\n",
    "import os\n",
    "\n",
    "   \n",
    "# Step 1: Load file interval_data.xlsx using pandas\n",
    "file_path = 'C:/Users/lenovo/Desktop/Uday CBRE Data Analyst Assessment/Python_test/interval_data.xlsx'\n",
    "df = pd.read_excel(file_path)\n",
    "\n",
    "# Step 2: Transpose the table\\n,\n",
    "df_transposed = df.melt(id_vars=['MPAN', 'Date'], var_name='Hour', value_name='Value')\n",
    "\n",
    "# Step 3: Calculate mean, max, min value for each MPAN for each week\n",
    "df_transposed['Week'] = ((df_transposed['Date'] - df_transposed['Date'].min()).dt.days // 7) + 1\n",
    "\n",
    "result = df_transposed.groupby(['MPAN', 'Week']).agg({'Value': ['mean', 'max', 'min']}).reset_index()\n",
    "\n",
    "result.columns = [' '.join(col).strip() for col in result.columns.values]\n",
    "\n",
    "# Step 4: Save result to separate file for each MPAN number\n",
    "output_folder = 'C:/Users/lenovo/Desktop/Uday CBRE Data Analyst Assessment/Results_Pandas_Task-2'\n",
    "\n",
    "if not os.path.exists(output_folder):\n",
    "    os.makedirs(output_folder)\n",
    "\n",
    "for mpan_number in result['MPAN'].unique():\n",
    "    mpan_data = result[result['MPAN'] == mpan_number]\n",
    "    file_path = os.path.join(output_folder, f'result_{mpan_number}.xlsx')\n",
    "    mpan_data.to_excel(file_path, index=False)\n"
   ]
  },
  {
   "cell_type": "code",
   "execution_count": null,
   "id": "59bd1093-c431-4401-badd-7ccc31127a58",
   "metadata": {},
   "outputs": [],
   "source": []
  }
 ],
 "metadata": {
  "kernelspec": {
   "display_name": "Python 3 (ipykernel)",
   "language": "python",
   "name": "python3"
  },
  "language_info": {
   "codemirror_mode": {
    "name": "ipython",
    "version": 3
   },
   "file_extension": ".py",
   "mimetype": "text/x-python",
   "name": "python",
   "nbconvert_exporter": "python",
   "pygments_lexer": "ipython3",
   "version": "3.11.5"
  }
 },
 "nbformat": 4,
 "nbformat_minor": 5
}
